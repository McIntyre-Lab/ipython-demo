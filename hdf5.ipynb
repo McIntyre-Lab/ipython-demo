{
 "cells": [
  {
   "cell_type": "markdown",
   "metadata": {},
   "source": [
    "# HDF5\n",
    "\n",
    "HDF5 stands for (**H**ierarchical **D**ata **F**ormat **5**), and it is developed by the [HDF Group](https://www.hdfgroup.org/HDF5/). From their website:\n",
    "\n",
    ">HDF5 is a data model, library, and file format for storing and managing data. It supports an unlimited variety of datatypes, and is designed for flexible and efficient I/O and for high volume and complex data. HDF5 is portable and is extensible, allowing applications to evolve in their use of HDF5. The HDF5 Technology suite includes tools and applications for managing, manipulating, viewing, and analyzing data in the HDF5 format. \n",
    "\n",
    "Various programming languages have developed APIs for interacting with HDF formatted files, for example there are libraries in Python and R which I will briefly cover. There are also a set of command line tools developed by the HDF Group [HERE](https://www.hdfgroup.org/HDF5/doc/RM/Tools.html), I will talk a little about `h5ls` and `h5dump`.\n",
    "\n",
    "My goal here is just to give a little taste, the true power of HDF5 is not apparent until you look at real use cases for example the python package `vcfnp` converts a vcf file into an HDF5 file allowing you to quickly access different parts of the VCF, [see here](http://nbviewer.ipython.org/github/alimanfoo/vcfnp/blob/master/example.ipynb).\n",
    "\n",
    "**For all of these tools to work you need to install the HDF5 software from HDF5 group!**\n",
    "\n",
    "* On Linux (Mint) you can run the following:\n",
    "\n",
    ">`sudo apt-get update`\n",
    "\n",
    ">`sudo apt-get install h5utils hdf5-tools hdfview libhdf5-dev`\n",
    "\n",
    "* On OSX take a look at [MacPorts](https://www.macports.org/)\n",
    "\n",
    "* For Linux, OSX, and Windows you can download and install from the HDF group\n",
    "\n",
    "\n",
    "## HDF5 in Python\n",
    "There are two major packages for interacting with HDF5 files ([PyTables](http://www.pytables.org/) and [h5py](http://www.h5py.org/). Both packages have a slightly different interface which is discussed [HERE](http://docs.h5py.org/en/latest/faq.html#what-s-the-difference-between-h5py-and-pytables). I will go over a quick example usage of `PyTables`, `h5py`, and `Pandas + PyTables`.\n",
    "\n",
    "**You will need to have installed:**\n",
    "* Python >= 2.6 including Python 3.x (Python >= 2.7 is highly recommended)\n",
    "* NumPy >= 1.7.1\n",
    "* Numexpr >= 2.4\n",
    "* Cython >= 0.14\n",
    "* Pandas >= 0.14\n",
    "\n",
    "### PyTables\n",
    "PyTables can be installed using pip:\n",
    ">`pip install tables --user`\n",
    "\n",
    "or using your python distributions package manager."
   ]
  },
  {
   "cell_type": "code",
   "execution_count": 4,
   "metadata": {
    "collapsed": false
   },
   "outputs": [],
   "source": [
    "# Import packages\n",
    "import numpy as np\n",
    "import tables as pt   # PyTables\n",
    "import h5py as hp     # h5py\n",
    "import pandas as pd\n",
    "import rpy2\n",
    "%load_ext rpy2.ipython"
   ]
  },
  {
   "cell_type": "code",
   "execution_count": 5,
   "metadata": {
    "collapsed": true
   },
   "outputs": [],
   "source": [
    "# Create a New HDF5 File\n",
    "h5file = pt.open_file('test.h5', mode='w', title='Test file')"
   ]
  },
  {
   "cell_type": "markdown",
   "metadata": {},
   "source": [
    "HDF5 is organized in a hierarchical structure and syntax is similar to the Linux/OSX file structure. A group can be thought of as a folder."
   ]
  },
  {
   "cell_type": "code",
   "execution_count": 6,
   "metadata": {
    "collapsed": false
   },
   "outputs": [
    {
     "name": "stdout",
     "output_type": "stream",
     "text": [
      "/pytables (Group) 'PyTables Test'\n"
     ]
    }
   ],
   "source": [
    "# Create new group\n",
    "group = h5file.create_group('/', 'pytables', 'PyTables Test')\n",
    "print(group)"
   ]
  },
  {
   "cell_type": "markdown",
   "metadata": {},
   "source": [
    "While a table can be thought of as a file in a folder."
   ]
  },
  {
   "cell_type": "code",
   "execution_count": 7,
   "metadata": {
    "collapsed": false
   },
   "outputs": [],
   "source": [
    "# Create new table\n",
    "class HgSnpCall(pt.IsDescription):\n",
    "    chrom     = pt.StringCol(16)   # 16-character String\n",
    "    start     = pt.UInt32Col()     # Unsigned 32-bit integer\n",
    "    end       = pt.UInt32Col()     # Unsigned 32-bit integer\n",
    "    call      = pt.StringCol(16)   # 16-character String\n",
    "\n",
    "\n",
    "table = h5file.create_table(group, 'hg19', HgSnpCall, 'Human SNP Calls')"
   ]
  },
  {
   "cell_type": "code",
   "execution_count": 8,
   "metadata": {
    "collapsed": true
   },
   "outputs": [],
   "source": [
    "# Add a row of data to the table.\n",
    "position = table.row\n",
    "position['chrom'] = 'chr4'\n",
    "position['start'] = 10023\n",
    "position['end'] = 10024\n",
    "position['call'] = 'A/G'\n",
    "position.append()\n",
    "\n",
    "# Flush table, similar to SQL\n",
    "table.flush()"
   ]
  },
  {
   "cell_type": "code",
   "execution_count": 9,
   "metadata": {
    "collapsed": false
   },
   "outputs": [],
   "source": [
    "%%bash\n",
    "# Lets look at the table we created using an external utility\n",
    "hdfview 'test.h5'"
   ]
  },
  {
   "cell_type": "code",
   "execution_count": 10,
   "metadata": {
    "collapsed": false
   },
   "outputs": [],
   "source": [
    "# Close the h5file\n",
    "h5file.close()"
   ]
  },
  {
   "cell_type": "markdown",
   "metadata": {},
   "source": [
    "PyTables is very low level and is a little difficult to use by hand. Luckily Pandas has integrated PyTables so that you can quickly dumpt a Pandas DataFrame to an HDF5 file.\n",
    "\n",
    "### Pandas + PyTables\n",
    "\n",
    "Now I am going to create a table in pandas and dump it to an HDF5 file."
   ]
  },
  {
   "cell_type": "code",
   "execution_count": 11,
   "metadata": {
    "collapsed": false
   },
   "outputs": [
    {
     "name": "stdout",
     "output_type": "stream",
     "text": [
      "  chrom  start    end  call\n",
      "0  chr4  10023  10024   A/G\n",
      "1  chr4   3020   3023  AA/G\n",
      "2  chr2  40404  40405   T/C\n",
      "3  chr2  20202  20203   A/C\n"
     ]
    }
   ],
   "source": [
    "# Create a DataFrame\n",
    "df_snp = pd.DataFrame({'chrom': [ 'chr4', 'chr4', 'chr2', 'chr2'],\n",
    "                       'start': [10023, 3020, 40404, 20202],\n",
    "                       'end': [10024, 3023, 40405, 20203],\n",
    "                       'call': ['A/G', 'AA/G', 'T/C', 'A/C']}, \n",
    "                      columns=['chrom', 'start', 'end', 'call'])\n",
    "print(df_snp)"
   ]
  },
  {
   "cell_type": "code",
   "execution_count": 12,
   "metadata": {
    "collapsed": false
   },
   "outputs": [],
   "source": [
    "# Save to hdf5 file\n",
    "hdf = pd.HDFStore('test.h5')\n",
    "hdf.put('pandas_test', df_snp, format='table', data_columns=True)\n",
    "hdf.close()"
   ]
  },
  {
   "cell_type": "code",
   "execution_count": 13,
   "metadata": {
    "collapsed": true
   },
   "outputs": [],
   "source": [
    "%%bash\n",
    "# Now lets look at it again\n",
    "hdfview 'test.h5'"
   ]
  },
  {
   "cell_type": "markdown",
   "metadata": {},
   "source": [
    "As I have mentioned, there are libraries for reading HDF5 files in [R](http://www.bioconductor.org/packages/release/bioc/html/rhdf5.html). Now we can open this file in R using the following:"
   ]
  },
  {
   "cell_type": "code",
   "execution_count": 16,
   "metadata": {
    "collapsed": false
   },
   "outputs": [
    {
     "data": {
      "text/plain": [
       "  index chrom start   end call\n",
       "1     0  chr4 10023 10024  A/G\n",
       "2     1  chr4  3020  3023 AA/G\n",
       "3     2  chr2 40404 40405  T/C\n",
       "4     3  chr2 20202 20203  A/C\n"
      ]
     },
     "metadata": {},
     "output_type": "display_data"
    }
   ],
   "source": [
    "%%R\n",
    "library(rhdf5)\n",
    "library(bit64)\n",
    "\n",
    "data = h5read('test.h5', 'pandas_test/table', bit64conversion='bit64')\n",
    "print(data)"
   ]
  },
  {
   "cell_type": "markdown",
   "metadata": {},
   "source": [
    "### h5py\n",
    "\n",
    "h5py can be installed using pip:\n",
    ">`pip install h5py --user`\n",
    "\n",
    "or using your python distributions package manager.\n",
    "\n",
    "While Pandas + PyTables if very useful for traditional data sets, HDF5 can store a variety of data types. The python package h5py is nice for a higher level access to an HDF5 file and can quickly add and store arrays and lists."
   ]
  },
  {
   "cell_type": "code",
   "execution_count": 17,
   "metadata": {
    "collapsed": false
   },
   "outputs": [],
   "source": [
    "# Open a new hdf5 file\n",
    "hdf = hp.File('test.h5', 'a')"
   ]
  },
  {
   "cell_type": "code",
   "execution_count": 18,
   "metadata": {
    "collapsed": false
   },
   "outputs": [],
   "source": [
    "# Create a new group\n",
    "group = hdf.create_group('h5py_test')"
   ]
  },
  {
   "cell_type": "code",
   "execution_count": 19,
   "metadata": {
    "collapsed": false
   },
   "outputs": [],
   "source": [
    "# Create a new dataset object\n",
    "dat = group.create_dataset('matrix', shape=(100, 100), dtype='i')"
   ]
  },
  {
   "cell_type": "code",
   "execution_count": 20,
   "metadata": {
    "collapsed": false
   },
   "outputs": [
    {
     "data": {
      "text/plain": [
       "array([[0, 0, 0, ..., 0, 0, 0],\n",
       "       [0, 0, 0, ..., 0, 0, 0],\n",
       "       [0, 0, 0, ..., 0, 0, 0],\n",
       "       ..., \n",
       "       [0, 0, 0, ..., 0, 0, 0],\n",
       "       [0, 0, 0, ..., 0, 0, 0],\n",
       "       [0, 0, 0, ..., 0, 0, 0]], dtype=int32)"
      ]
     },
     "execution_count": 20,
     "metadata": {},
     "output_type": "execute_result"
    }
   ],
   "source": [
    "# I made a 100 x 100 matrix\n",
    "dat[...]"
   ]
  },
  {
   "cell_type": "code",
   "execution_count": 21,
   "metadata": {
    "collapsed": false,
    "run_control": {
     "marked": false
    }
   },
   "outputs": [
    {
     "name": "stdout",
     "output_type": "stream",
     "text": [
      "[[999   0   0 ...,   0   0   0]\n",
      " [  0   0   0 ...,   0   0   0]\n",
      " [  0   0   0 ...,   0   0   0]\n",
      " ..., \n",
      " [  0   0   0 ...,   0   0   0]\n",
      " [  0   0   0 ...,   0   0   0]\n",
      " [  0   0   0 ...,   0   0   0]]\n"
     ]
    }
   ],
   "source": [
    "# We can then do things to this matrix\n",
    "dat[0,0] = 999\n",
    "print(dat[...])\n",
    "hdf.close()"
   ]
  },
  {
   "cell_type": "code",
   "execution_count": 22,
   "metadata": {
    "collapsed": true
   },
   "outputs": [],
   "source": [
    "%%bash\n",
    "hdfview test.h5"
   ]
  },
  {
   "cell_type": "code",
   "execution_count": 23,
   "metadata": {
    "collapsed": false
   },
   "outputs": [
    {
     "name": "stdout",
     "output_type": "stream",
     "text": [
      "h5py_test                Group\n",
      "pandas_test              Group\n",
      "pytables                 Group\n"
     ]
    }
   ],
   "source": [
    "%%bash\n",
    "# On the command line we can also list the contents of an hdf5 file\n",
    "h5ls test.h5"
   ]
  },
  {
   "cell_type": "code",
   "execution_count": 20,
   "metadata": {
    "collapsed": false
   },
   "outputs": [
    {
     "name": "stdout",
     "output_type": "stream",
     "text": [
      "HDF5 \"test.h5\" {\n",
      "DATASET \"/h5py_test/matrix\" {\n",
      "   DATATYPE  H5T_STD_I32LE\n",
      "   DATASPACE  SIMPLE { ( 100, 100 ) / ( 100, 100 ) }\n",
      "   SUBSET {\n",
      "      START ( 0, 0 );\n",
      "      STRIDE ( 1, 1 );\n",
      "      COUNT ( 5, 15 );\n",
      "      BLOCK ( 1, 1 );\n",
      "      DATA {\n",
      "      (0,0): 999, 0, 0, 0, 0, 0, 0, 0, 0, 0, 0, 0, 0, 0, 0,\n",
      "      (1,0): 0, 0, 0, 0, 0, 0, 0, 0, 0, 0, 0, 0, 0, 0, 0,\n",
      "      (2,0): 0, 0, 0, 0, 0, 0, 0, 0, 0, 0, 0, 0, 0, 0, 0,\n",
      "      (3,0): 0, 0, 0, 0, 0, 0, 0, 0, 0, 0, 0, 0, 0, 0, 0,\n",
      "      (4,0): 0, 0, 0, 0, 0, 0, 0, 0, 0, 0, 0, 0, 0, 0, 0\n",
      "      }\n",
      "   }\n",
      "}\n",
      "}\n"
     ]
    }
   ],
   "source": [
    "%%bash\n",
    "# On the command line we can look at the contents an hdf5 file\n",
    "h5dump -d /h5py_test/matrix -s \"0,0\" -c \"5,15\" test.h5"
   ]
  },
  {
   "cell_type": "code",
   "execution_count": 24,
   "metadata": {
    "collapsed": true
   },
   "outputs": [],
   "source": [
    "%%bash \n",
    "# Clean up our mess\n",
    "#rm test.h5"
   ]
  },
  {
   "cell_type": "code",
   "execution_count": null,
   "metadata": {
    "collapsed": true
   },
   "outputs": [],
   "source": []
  }
 ],
 "metadata": {
  "kernelspec": {
   "display_name": "Python 2",
   "language": "python",
   "name": "python2"
  },
  "language_info": {
   "codemirror_mode": {
    "name": "ipython",
    "version": 2
   },
   "file_extension": ".py",
   "mimetype": "text/x-python",
   "name": "python",
   "nbconvert_exporter": "python",
   "pygments_lexer": "ipython2",
   "version": "2.7.6"
  }
 },
 "nbformat": 4,
 "nbformat_minor": 0
}
