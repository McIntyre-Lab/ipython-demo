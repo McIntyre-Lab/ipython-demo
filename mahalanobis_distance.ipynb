{
 "cells": [
  {
   "cell_type": "markdown",
   "metadata": {},
   "source": [
    "# Mahalanobis Distance\n",
    "\n",
    "This notebook shows how I think we should do Mahalanobis distance for the SECIM project. From JMP Website:\n",
    "\n",
    "The Mahalanobis distance takes into account the correlation structure of the data and the individual scales. For each value, the Mahalanobis distance is denoted $M_i$ and is computed as\n",
    "\n",
    "$M_i = \\sqrt{(Y_i - \\bar Y)^T S^{-1}(Y_i - \\bar Y)}$\n",
    "\n",
    "where:\n",
    "* $Y_i$ is the data for the ith row\n",
    "* Y is the row of means\n",
    "* S is the estimated covariance matrix for the data"
   ]
  },
  {
   "cell_type": "code",
   "execution_count": 10,
   "metadata": {
    "collapsed": true
   },
   "outputs": [],
   "source": [
    "import pandas as pd\n",
    "import numpy as np\n",
    "import scipy as sp\n",
    "import scipy.stats as stats\n",
    "import matplotlib.pyplot as plt\n",
    "import cPickle as pickle\n",
    "import os\n",
    "\n",
    "%matplotlib inline"
   ]
  },
  {
   "cell_type": "markdown",
   "metadata": {},
   "source": [
    "## Generation of a simulated data set\n",
    "\n",
    "As an example I will simulate a data set"
   ]
  },
  {
   "cell_type": "code",
   "execution_count": 11,
   "metadata": {
    "collapsed": false,
    "run_control": {
     "marked": false
    }
   },
   "outputs": [
    {
     "data": {
      "text/html": [
       "<div style=\"max-height:1000px;max-width:1500px;overflow:auto;\">\n",
       "<table border=\"1\" class=\"dataframe\">\n",
       "  <thead>\n",
       "    <tr style=\"text-align: right;\">\n",
       "      <th></th>\n",
       "      <th>sample1</th>\n",
       "      <th>sample2</th>\n",
       "      <th>sample3</th>\n",
       "      <th>sample4</th>\n",
       "    </tr>\n",
       "  </thead>\n",
       "  <tbody>\n",
       "    <tr>\n",
       "      <th>0</th>\n",
       "      <td>2.821596</td>\n",
       "      <td>4.333127</td>\n",
       "      <td>9.060183</td>\n",
       "      <td>9.220720</td>\n",
       "    </tr>\n",
       "    <tr>\n",
       "      <th>1</th>\n",
       "      <td>2.421120</td>\n",
       "      <td>3.247394</td>\n",
       "      <td>8.925715</td>\n",
       "      <td>9.795799</td>\n",
       "    </tr>\n",
       "    <tr>\n",
       "      <th>2</th>\n",
       "      <td>1.948334</td>\n",
       "      <td>2.812244</td>\n",
       "      <td>9.414377</td>\n",
       "      <td>10.056230</td>\n",
       "    </tr>\n",
       "    <tr>\n",
       "      <th>3</th>\n",
       "      <td>3.786460</td>\n",
       "      <td>4.284004</td>\n",
       "      <td>8.452335</td>\n",
       "      <td>9.852255</td>\n",
       "    </tr>\n",
       "    <tr>\n",
       "      <th>4</th>\n",
       "      <td>1.515989</td>\n",
       "      <td>3.221919</td>\n",
       "      <td>7.600073</td>\n",
       "      <td>8.164640</td>\n",
       "    </tr>\n",
       "  </tbody>\n",
       "</table>\n",
       "</div>"
      ],
      "text/plain": [
       "    sample1   sample2   sample3    sample4\n",
       "0  2.821596  4.333127  9.060183   9.220720\n",
       "1  2.421120  3.247394  8.925715   9.795799\n",
       "2  1.948334  2.812244  9.414377  10.056230\n",
       "3  3.786460  4.284004  8.452335   9.852255\n",
       "4  1.515989  3.221919  7.600073   8.164640"
      ]
     },
     "execution_count": 11,
     "metadata": {},
     "output_type": "execute_result"
    }
   ],
   "source": [
    "covSim = np.array([[1.0, .8, .2, .2],\n",
    "                   [.8, 1.0, .3, .3],\n",
    "                   [.3, .3, 1.0, .8],\n",
    "                   [.2, .2, .8, 1.0]])\n",
    "np.random.seed(111)\n",
    "datSim = np.random.multivariate_normal([2, 3, 8, 9], covSim, size=1000)\n",
    "dfSim = pd.DataFrame(data=datSim, columns=['sample1', 'sample2', 'sample3', 'sample4'])\n",
    "\n",
    "# Save for comparing in sas\n",
    "dfSim.to_csv('/home/jfear/tmp/dfSim.csv', index=False)\n",
    " \n",
    "dfSim.head()"
   ]
  },
  {
   "cell_type": "markdown",
   "metadata": {
    "code_folding": []
   },
   "source": [
    "## Calculate Mahalanobis distance\n",
    "\n",
    "There is a Mahalanobis function in scipy, but from what I can tell it only works on 1d arrays and not matrices. I think it will be easiest to o the calculation by hand."
   ]
  },
  {
   "cell_type": "code",
   "execution_count": 12,
   "metadata": {
    "collapsed": false
   },
   "outputs": [
    {
     "data": {
      "text/html": [
       "<div style=\"max-height:1000px;max-width:1500px;overflow:auto;\">\n",
       "<table border=\"1\" class=\"dataframe\">\n",
       "  <thead>\n",
       "    <tr style=\"text-align: right;\">\n",
       "      <th></th>\n",
       "      <th>sample1</th>\n",
       "      <th>sample2</th>\n",
       "      <th>sample3</th>\n",
       "      <th>sample4</th>\n",
       "    </tr>\n",
       "  </thead>\n",
       "  <tbody>\n",
       "    <tr>\n",
       "      <th>sample1</th>\n",
       "      <td>1.055661</td>\n",
       "      <td>0.833555</td>\n",
       "      <td>0.308716</td>\n",
       "      <td>0.278837</td>\n",
       "    </tr>\n",
       "    <tr>\n",
       "      <th>sample2</th>\n",
       "      <td>0.833555</td>\n",
       "      <td>0.990536</td>\n",
       "      <td>0.273956</td>\n",
       "      <td>0.249616</td>\n",
       "    </tr>\n",
       "    <tr>\n",
       "      <th>sample3</th>\n",
       "      <td>0.308716</td>\n",
       "      <td>0.273956</td>\n",
       "      <td>1.000202</td>\n",
       "      <td>0.783587</td>\n",
       "    </tr>\n",
       "    <tr>\n",
       "      <th>sample4</th>\n",
       "      <td>0.278837</td>\n",
       "      <td>0.249616</td>\n",
       "      <td>0.783587</td>\n",
       "      <td>0.970469</td>\n",
       "    </tr>\n",
       "  </tbody>\n",
       "</table>\n",
       "</div>"
      ],
      "text/plain": [
       "          sample1   sample2   sample3   sample4\n",
       "sample1  1.055661  0.833555  0.308716  0.278837\n",
       "sample2  0.833555  0.990536  0.273956  0.249616\n",
       "sample3  0.308716  0.273956  1.000202  0.783587\n",
       "sample4  0.278837  0.249616  0.783587  0.970469"
      ]
     },
     "execution_count": 12,
     "metadata": {},
     "output_type": "execute_result"
    }
   ],
   "source": [
    "# Calculate the covaranice matrix from the data\n",
    "covHat = dfSim.cov()\n",
    "covHat"
   ]
  },
  {
   "cell_type": "code",
   "execution_count": 13,
   "metadata": {
    "collapsed": false
   },
   "outputs": [
    {
     "data": {
      "text/plain": [
       "array([[ 2.87851495, -2.3524118 , -0.19111215, -0.0676822 ],\n",
       "       [-2.3524118 ,  3.01887582, -0.05983838, -0.05227554],\n",
       "       [-0.19111215, -0.05983838,  2.77626765, -2.17134267],\n",
       "       [-0.0676822 , -0.05227554, -2.17134267,  2.81653131]])"
      ]
     },
     "execution_count": 13,
     "metadata": {},
     "output_type": "execute_result"
    }
   ],
   "source": [
    "# Get the inverse of the covarance matrix\n",
    "covHatInv = np.linalg.inv(covHat)\n",
    "covHatInv"
   ]
  },
  {
   "cell_type": "code",
   "execution_count": 14,
   "metadata": {
    "collapsed": false
   },
   "outputs": [
    {
     "data": {
      "text/plain": [
       "sample1    2.016073\n",
       "sample2    3.015031\n",
       "sample3    7.993385\n",
       "sample4    9.019186\n",
       "dtype: float64"
      ]
     },
     "execution_count": 14,
     "metadata": {},
     "output_type": "execute_result"
    }
   ],
   "source": [
    "# Calculate the column means\n",
    "colMean = dfSim.mean(axis=0)\n",
    "colMean"
   ]
  },
  {
   "cell_type": "code",
   "execution_count": 15,
   "metadata": {
    "collapsed": false
   },
   "outputs": [
    {
     "data": {
      "text/html": [
       "<div style=\"max-height:1000px;max-width:1500px;overflow:auto;\">\n",
       "<table border=\"1\" class=\"dataframe\">\n",
       "  <thead>\n",
       "    <tr style=\"text-align: right;\">\n",
       "      <th></th>\n",
       "      <th>0</th>\n",
       "      <th>1</th>\n",
       "      <th>2</th>\n",
       "      <th>3</th>\n",
       "      <th>4</th>\n",
       "      <th>5</th>\n",
       "      <th>6</th>\n",
       "      <th>7</th>\n",
       "      <th>8</th>\n",
       "      <th>9</th>\n",
       "      <th>...</th>\n",
       "      <th>990</th>\n",
       "      <th>991</th>\n",
       "      <th>992</th>\n",
       "      <th>993</th>\n",
       "      <th>994</th>\n",
       "      <th>995</th>\n",
       "      <th>996</th>\n",
       "      <th>997</th>\n",
       "      <th>998</th>\n",
       "      <th>999</th>\n",
       "    </tr>\n",
       "  </thead>\n",
       "  <tbody>\n",
       "    <tr>\n",
       "      <th>sample1</th>\n",
       "      <td>0.805524</td>\n",
       "      <td>0.405047</td>\n",
       "      <td>-0.067739</td>\n",
       "      <td>1.770387</td>\n",
       "      <td>-0.500084</td>\n",
       "      <td>0.491167</td>\n",
       "      <td>0.349657</td>\n",
       "      <td>1.396824</td>\n",
       "      <td>-0.317541</td>\n",
       "      <td>0.145533</td>\n",
       "      <td>...</td>\n",
       "      <td>-0.063891</td>\n",
       "      <td>1.195296</td>\n",
       "      <td>1.232903</td>\n",
       "      <td>-1.478517</td>\n",
       "      <td>0.485055</td>\n",
       "      <td>1.142319</td>\n",
       "      <td>1.568161</td>\n",
       "      <td>-0.493987</td>\n",
       "      <td>-0.416602</td>\n",
       "      <td>2.481556</td>\n",
       "    </tr>\n",
       "    <tr>\n",
       "      <th>sample2</th>\n",
       "      <td>1.318096</td>\n",
       "      <td>0.232363</td>\n",
       "      <td>-0.202787</td>\n",
       "      <td>1.268973</td>\n",
       "      <td>0.206888</td>\n",
       "      <td>0.020347</td>\n",
       "      <td>-0.195840</td>\n",
       "      <td>1.771330</td>\n",
       "      <td>-0.195135</td>\n",
       "      <td>-0.992467</td>\n",
       "      <td>...</td>\n",
       "      <td>0.057818</td>\n",
       "      <td>1.873596</td>\n",
       "      <td>0.900250</td>\n",
       "      <td>-0.381725</td>\n",
       "      <td>-0.036286</td>\n",
       "      <td>0.987808</td>\n",
       "      <td>2.032395</td>\n",
       "      <td>-0.750410</td>\n",
       "      <td>0.855581</td>\n",
       "      <td>1.999373</td>\n",
       "    </tr>\n",
       "    <tr>\n",
       "      <th>sample3</th>\n",
       "      <td>1.066799</td>\n",
       "      <td>0.932330</td>\n",
       "      <td>1.420992</td>\n",
       "      <td>0.458950</td>\n",
       "      <td>-0.393312</td>\n",
       "      <td>0.168656</td>\n",
       "      <td>-1.424975</td>\n",
       "      <td>-0.616252</td>\n",
       "      <td>1.757483</td>\n",
       "      <td>-0.586115</td>\n",
       "      <td>...</td>\n",
       "      <td>-0.542625</td>\n",
       "      <td>0.073288</td>\n",
       "      <td>0.530720</td>\n",
       "      <td>-0.775142</td>\n",
       "      <td>0.737903</td>\n",
       "      <td>0.945534</td>\n",
       "      <td>1.140399</td>\n",
       "      <td>0.725193</td>\n",
       "      <td>-0.681701</td>\n",
       "      <td>0.625554</td>\n",
       "    </tr>\n",
       "    <tr>\n",
       "      <th>sample4</th>\n",
       "      <td>0.201533</td>\n",
       "      <td>0.776612</td>\n",
       "      <td>1.037044</td>\n",
       "      <td>0.833068</td>\n",
       "      <td>-0.854546</td>\n",
       "      <td>0.517748</td>\n",
       "      <td>-0.498351</td>\n",
       "      <td>-1.658697</td>\n",
       "      <td>1.529255</td>\n",
       "      <td>-0.185959</td>\n",
       "      <td>...</td>\n",
       "      <td>-0.947383</td>\n",
       "      <td>0.199141</td>\n",
       "      <td>0.007339</td>\n",
       "      <td>-0.376011</td>\n",
       "      <td>0.099328</td>\n",
       "      <td>0.534891</td>\n",
       "      <td>1.362770</td>\n",
       "      <td>-0.511936</td>\n",
       "      <td>-1.360179</td>\n",
       "      <td>-0.359304</td>\n",
       "    </tr>\n",
       "  </tbody>\n",
       "</table>\n",
       "<p>4 rows × 1000 columns</p>\n",
       "</div>"
      ],
      "text/plain": [
       "              0         1         2         3         4         5         6    \\\n",
       "sample1  0.805524  0.405047 -0.067739  1.770387 -0.500084  0.491167  0.349657   \n",
       "sample2  1.318096  0.232363 -0.202787  1.268973  0.206888  0.020347 -0.195840   \n",
       "sample3  1.066799  0.932330  1.420992  0.458950 -0.393312  0.168656 -1.424975   \n",
       "sample4  0.201533  0.776612  1.037044  0.833068 -0.854546  0.517748 -0.498351   \n",
       "\n",
       "              7         8         9      ...          990       991       992  \\\n",
       "sample1  1.396824 -0.317541  0.145533    ...    -0.063891  1.195296  1.232903   \n",
       "sample2  1.771330 -0.195135 -0.992467    ...     0.057818  1.873596  0.900250   \n",
       "sample3 -0.616252  1.757483 -0.586115    ...    -0.542625  0.073288  0.530720   \n",
       "sample4 -1.658697  1.529255 -0.185959    ...    -0.947383  0.199141  0.007339   \n",
       "\n",
       "              993       994       995       996       997       998       999  \n",
       "sample1 -1.478517  0.485055  1.142319  1.568161 -0.493987 -0.416602  2.481556  \n",
       "sample2 -0.381725 -0.036286  0.987808  2.032395 -0.750410  0.855581  1.999373  \n",
       "sample3 -0.775142  0.737903  0.945534  1.140399  0.725193 -0.681701  0.625554  \n",
       "sample4 -0.376011  0.099328  0.534891  1.362770 -0.511936 -1.360179 -0.359304  \n",
       "\n",
       "[4 rows x 1000 columns]"
      ]
     },
     "execution_count": 15,
     "metadata": {},
     "output_type": "execute_result"
    }
   ],
   "source": [
    "# Subtract the mean from each value\n",
    "dfSimCenter = (dfSim - colMean).T\n",
    "dfSimCenter.head()"
   ]
  },
  {
   "cell_type": "code",
   "execution_count": 16,
   "metadata": {
    "collapsed": false,
    "scrolled": true
   },
   "outputs": [],
   "source": [
    "# Calculate the mahalanobis distance\n",
    "MD = np.sqrt(np.dot(np.dot(dfSimCenter.T, covHatInv), dfSimCenter))\n",
    "MDval = np.diag(MD)"
   ]
  },
  {
   "cell_type": "code",
   "execution_count": 17,
   "metadata": {
    "collapsed": false
   },
   "outputs": [
    {
     "data": {
      "image/png": "[encoded data removed]",
      "text/plain": [
       "<matplotlib.figure.Figure at 0x7fdd2421c050>"
      ]
     },
     "metadata": {},
     "output_type": "display_data"
    }
   ],
   "source": [
    "plt.scatter(x=range(len(MDval)), y=MDval)\n",
    "plt.axhline(np.percentile(MDval, 95), ls='--', lw=2)\n",
    "plt.show()"
   ]
  },
  {
   "cell_type": "code",
   "execution_count": null,
   "metadata": {
    "collapsed": true
   },
   "outputs": [],
   "source": []
  }
 ],
 "metadata": {
  "kernelspec": {
   "display_name": "Python 2",
   "language": "python",
   "name": "python2"
  },
  "language_info": {
   "codemirror_mode": {
    "name": "ipython",
    "version": 2
   },
   "file_extension": ".py",
   "mimetype": "text/x-python",
   "name": "python",
   "nbconvert_exporter": "python",
   "pygments_lexer": "ipython2",
   "version": "2.7.6"
  }
 },
 "nbformat": 4,
 "nbformat_minor": 0
}
