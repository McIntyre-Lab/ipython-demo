{
 "cells": [
  {
   "cell_type": "markdown",
   "metadata": {},
   "source": [
    "# Using Stream Serialization (Pickling)\n",
    "\n",
    "In python pickling|unpickling is a process of serializing a python object into a file. Basically it takes the hunk of memory that a file is sitting in and writes it out to disk."
   ]
  },
  {
   "cell_type": "code",
   "execution_count": 2,
   "metadata": {
    "collapsed": false
   },
   "outputs": [
    {
     "data": {
      "text/html": [
       "\n",
       "        <iframe\n",
       "            width=\"800\"\n",
       "            height=\"500\"\n",
       "            src=\"https://www.youtube.com/embed/yYey8ntlK_E\"\n",
       "            frameborder=\"0\"\n",
       "            allowfullscreen\n",
       "        ></iframe>\n",
       "        "
      ],
      "text/plain": [
       "<IPython.lib.display.YouTubeVideo at 0x7ffab8116150>"
      ]
     },
     "execution_count": 2,
     "metadata": {},
     "output_type": "execute_result"
    }
   ],
   "source": [
    "from IPython.display import YouTubeVideo\n",
    "YouTubeVideo('yYey8ntlK_E', width=800, height=500)"
   ]
  },
  {
   "cell_type": "markdown",
   "metadata": {},
   "source": [
    "There are two implementations of pickle in python:\n",
    "\n",
    "* `pickle`\n",
    "* `cPickle` \n",
    "\n",
    "The `cPickle` implementation is faster.\n",
    "\n",
    "I like using pickles in two situations\n",
    "\n",
    "* When passing complex objects between python programs\n",
    "* For debugging programs that take a long time to run.\n",
    "\n",
    "Say we have a program that runs for 15 min, then produces an error. We could fire up the python debugger and dig into the problem, but each time we change something we have to re-run the entire program. Instead lets use pickling to help us out.\n",
    "\n",
    "First lets make some helper functions."
   ]
  },
  {
   "cell_type": "code",
   "execution_count": 3,
   "metadata": {
    "collapsed": true
   },
   "outputs": [],
   "source": [
    "import cPickle as pk"
   ]
  },
  {
   "cell_type": "markdown",
   "metadata": {},
   "source": [
    "This first function takes a dictionary and pickles it."
   ]
  },
  {
   "cell_type": "code",
   "execution_count": 4,
   "metadata": {
    "collapsed": true
   },
   "outputs": [],
   "source": [
    "def pickleDict(objDict, fname):\n",
    "    \"\"\" Pickle a dictionary of \"var name\": values for debugging.\n",
    "\n",
    "    Arguments:\n",
    "        :param dict objDict: A dictionary where each key is the name of a\n",
    "            variable and the value is the object itself.\n",
    "\n",
    "        :param str fname: File name of the pickle.\n",
    "    \"\"\"\n",
    "    with open(fname, 'wb') as FH:\n",
    "        pk.dump(objDict, FH)"
   ]
  },
  {
   "cell_type": "markdown",
   "metadata": {},
   "source": [
    "This second function unpickles a file and retunrs the dictionary."
   ]
  },
  {
   "cell_type": "code",
   "execution_count": 5,
   "metadata": {
    "collapsed": true
   },
   "outputs": [],
   "source": [
    "def unPickleDict(fname):\n",
    "    \"\"\" Pickle a dictionary of \"var name\": values for debugging.\n",
    "\n",
    "    Arguments:\n",
    "        :param str fname: File name of the pickle.\n",
    "\n",
    "    Returns:\n",
    "        :rtype: dict\n",
    "        :returns: A dictionary where each key is the name of a\n",
    "            variable and the value is the object itself.\n",
    "\n",
    "    \"\"\"\n",
    "    with open(fname, 'rb') as FH:\n",
    "        objDict = pk.load(FH)\n",
    "\n",
    "    return objDict"
   ]
  },
  {
   "cell_type": "markdown",
   "metadata": {},
   "source": [
    "Ok, now lets say our program is erroring out at a specific function. We know that the function takes three objects.\n",
    "\n",
    "* my_cool_flags\n",
    "* my_big_data\n",
    "* my_list_o_genes\n",
    "\n",
    "I can create a dictionary where the key is my object name and the value is my object."
   ]
  },
  {
   "cell_type": "code",
   "execution_count": 6,
   "metadata": {
    "collapsed": true
   },
   "outputs": [],
   "source": [
    "# Make up some data\n",
    "my_cool_flags = [0, 0, 0, 0, 0, 1]\n",
    "my_big_data = ['one', 'two', 'three']\n",
    "my_list_o_genes = ['Sxl', 'dsx', 'fru']"
   ]
  },
  {
   "cell_type": "code",
   "execution_count": 7,
   "metadata": {
    "collapsed": true
   },
   "outputs": [],
   "source": [
    "# Put all of these in a dictionary\n",
    "objDict = {'my_cool_flags': my_cool_flags,\n",
    "           'my_big_data': my_big_data,\n",
    "           'my_list_o_genes': my_list_o_genes}\n",
    "\n",
    "# We can pickle that\n",
    "pickleDict(objDict, '/tmp/mypickle.pkl')"
   ]
  },
  {
   "cell_type": "markdown",
   "metadata": {},
   "source": [
    "Now in a separate ipython environment you can unpickle your objects, import your broken function and go to town."
   ]
  },
  {
   "cell_type": "code",
   "execution_count": 9,
   "metadata": {
    "collapsed": false
   },
   "outputs": [
    {
     "name": "stdout",
     "output_type": "stream",
     "text": [
      "{'my_big_data': ['one', 'two', 'three'], 'my_cool_flags': [0, 0, 0, 0, 0, 1], 'my_list_o_genes': ['Sxl', 'dsx', 'fru']}\n"
     ]
    }
   ],
   "source": [
    "objDict = unPickleDict('/tmp/mypickle.pkl')\n",
    "print objDict"
   ]
  },
  {
   "cell_type": "markdown",
   "metadata": {},
   "source": [
    "```python\n",
    "# In ipython, you can tell it to reload a function everything you call \n",
    "# it. That way you can make changes and have them work.\n",
    ">>> %load_ext autoreload\n",
    ">>> %autoreload 2\n",
    "\n",
    "# Then import you broken function and start tweaking\n",
    ">>> from longProgram import brokenFunction\n",
    ">>> brokenFunction(objDict['my_cool_flags'], objDict['my_big_data'], objDict['my_list_o_genes'])\n",
    "\n",
    "# You can also activate the IPython debugger if you want to use it.\n",
    ">>> %pdb\n",
    "```"
   ]
  },
  {
   "cell_type": "markdown",
   "metadata": {},
   "source": [
    "You can also add multiple objects to a pickle using `pk.dump` multiple times, and unpickle them by running `pk.load` multiple times, but the dictionary approach is easier to tell what is what.\n",
    "\n",
    "**NOTE: These two helper functions are already in `mclib_Python`.**"
   ]
  },
  {
   "cell_type": "code",
   "execution_count": null,
   "metadata": {
    "collapsed": true
   },
   "outputs": [],
   "source": []
  }
 ],
 "metadata": {
  "kernelspec": {
   "display_name": "Python 2",
   "language": "python",
   "name": "python2"
  },
  "language_info": {
   "codemirror_mode": {
    "name": "ipython",
    "version": 2
   },
   "file_extension": ".py",
   "mimetype": "text/x-python",
   "name": "python",
   "nbconvert_exporter": "python",
   "pygments_lexer": "ipython2",
   "version": "2.7.6"
  }
 },
 "nbformat": 4,
 "nbformat_minor": 0
}
