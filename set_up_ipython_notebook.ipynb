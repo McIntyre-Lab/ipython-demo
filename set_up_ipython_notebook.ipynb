{
 "cells": [
  {
   "cell_type": "markdown",
   "metadata": {
    "code_folding": [
     0
    ]
   },
   "source": [
    "# Set-up IPython Notebook Environment\n",
    "\n",
    "The first step is to set up the IPython notebook so that it can be most useful. This includes creating a profile, installing some extensions and making sure all useful tools are updated. This notebook should only need to be run once.\n",
    "\n",
    "## Create a profile\n",
    "\n",
    "A profile is the location where Ipython stores all of your settings. To create a profile just run the following:"
   ]
  },
  {
   "cell_type": "code",
   "execution_count": 1,
   "metadata": {
    "code_folding": [],
    "collapsed": false
   },
   "outputs": [
    {
     "name": "stdout",
     "output_type": "stream",
     "text": [
      "Your profile is located at:\t/home/jfear/.ipython/profile_default\n"
     ]
    }
   ],
   "source": [
    "# Initialize profile\n",
    "import IPython\n",
    "import os.path as path\n",
    "\n",
    "# Create a profile\n",
    "profile, = !ipython locate profile\n",
    "if not profile:\n",
    "    !ipython profile create\n",
    "print 'Your profile is located at:\\t', profile\n",
    "\n",
    "# Get local paths for later use\n",
    "ip = IPython.get_ipython()\n",
    "nbext = path.join(ip.ipython_dir, 'nbextensions')\n",
    "custom = path.join(profile, 'static/custom/custom.js')"
   ]
  },
  {
   "cell_type": "markdown",
   "metadata": {
    "code_folding": [],
    "variables": {
     "custom": "/home/jfear/.ipython/profile_default/static/custom/custom.js",
     "nbext": "/home/jfear/.ipython/nbextensions"
    }
   },
   "source": [
    "## Install useful extensions\n",
    "There are many IPython and IPython notebook extensions available.\n",
    "\n",
    "Github List of IPython extensions - https://github.com/ipython/ipython/wiki/Extensions-Index\n",
    "\n",
    "Github List of IPython notebook extensions - https://github.com/ipython-contrib/IPython-notebook-extensions\n",
    "\n",
    "Lets go ahead and install 4 notebook extensions that I find very useful. To install an extension you first download the extension and place it in:\n",
    "\n",
    "    {{nbext}}\n",
    "\n",
    "Then need to edit the file:\n",
    "\n",
    "    {{custom}}\n",
    "\n",
    "and add an IPython load statment:\n",
    "\n",
    "    `IPython.load_extensions('name_of_extension');`\n",
    "    \n",
    "### Download Extensions\n",
    "\n",
    "#### Spell checker\n",
    "IPython notebook does not have spell check by default. There are a variety of spell check extensions that have been created. None of these extensions are perfect, but the 'Spell Checking' extension from the Calico project (http://calicoproject.org/ICalico) does all that I need. Here is a youtube video describing the extension:"
   ]
  },
  {
   "cell_type": "code",
   "execution_count": 56,
   "metadata": {
    "collapsed": false
   },
   "outputs": [
    {
     "data": {
      "text/html": [
       "\n",
       "        <iframe\n",
       "            width=\"400\"\n",
       "            height=\"300\"\n",
       "            src=\"https://www.youtube.com/embed/o4xCp3b4oCw\"\n",
       "            frameborder=\"0\"\n",
       "            allowfullscreen\n",
       "        ></iframe>\n",
       "        "
      ],
      "text/plain": [
       "<IPython.lib.display.YouTubeVideo at 0x7fad22b35310>"
      ]
     },
     "execution_count": 56,
     "metadata": {},
     "output_type": "execute_result"
    }
   ],
   "source": [
    "from IPython.display import YouTubeVideo\n",
    "YouTubeVideo('o4xCp3b4oCw')"
   ]
  },
  {
   "cell_type": "markdown",
   "metadata": {},
   "source": [
    "The following command will download and copy the extension to the appropriate location."
   ]
  },
  {
   "cell_type": "code",
   "execution_count": 2,
   "metadata": {
    "collapsed": false,
    "run_control": {
     "marked": false
    }
   },
   "outputs": [
    {
     "name": "stdout",
     "output_type": "stream",
     "text": [
      "downloading https://bitbucket.org/ipre/calico/downloads/calico-spell-check-1.0.zip to /tmp/tmp720Iny/calico-spell-check-1.0.zip\n",
      "extracting /tmp/tmp720Iny/calico-spell-check-1.0.zip to /home/jfear/.ipython/nbextensions\n"
     ]
    }
   ],
   "source": [
    "!ipython install-nbextension https://bitbucket.org/ipre/calico/downloads/calico-spell-check-1.0.zip --user"
   ]
  },
  {
   "cell_type": "markdown",
   "metadata": {
    "variables": {
     "nbext": "/home/jfear/.ipython/nbextensions"
    }
   },
   "source": [
    "### Usability tools from the IPython-notebook extensions project\n",
    "\n",
    "There are three additional extensions from the IPython notebook extension project (https://github.com/ipython-contrib/IPython-notebook-extensions/wiki). I have only looked at some of the 'usability' extensions.\n",
    "\n",
    "If you are on unix then the following commands will download and place the exentsions in the correct location. If you are on OSX or Windows you need to download:\n",
    "\n",
    "https://github.com/ipython-contrib/IPython-notebook-extensions/archive/master.zip\n",
    "\n",
    "Extract it and copy the 'usability' folder into {{nbext}}"
   ]
  },
  {
   "cell_type": "code",
   "execution_count": 27,
   "metadata": {
    "collapsed": false
   },
   "outputs": [],
   "source": [
    "%%bash -c \"mydir=$nbext bash\"\n",
    "cd $HOME/Downloads\n",
    "wget https://github.com/ipython-contrib/IPython-notebook-extensions/archive/master.zip --quiet\n",
    "unzip -q master.zip\n",
    "mv ./IPython-notebook-extensions-master/usability $mydir/"
   ]
  },
  {
   "cell_type": "markdown",
   "metadata": {
    "variables": {
     "custom": "/home/jfear/.ipython/profile_default/static/custom/custom.js"
    }
   },
   "source": [
    "### Activate Extensions\n",
    "\n",
    "Now we need to add the IPython load statments to {{custom}}. The following command will install the 4 extensions."
   ]
  },
  {
   "cell_type": "code",
   "execution_count": 2,
   "metadata": {
    "collapsed": false
   },
   "outputs": [],
   "source": [
    "settings=\"\"\"\n",
    "require([\"base/js/events\"], function (events) {\n",
    "    events.on(\"app_initialized.NotebookApp\", function () {\n",
    "        IPython.load_extensions('calico-spell-check');\n",
    "        IPython.load_extensions('usability/runtools/main');\n",
    "        IPython.load_extensions('usability/codefolding/main');\n",
    "        IPython.load_extensions('usability/python-markdown/main');\n",
    "    });\n",
    "});\n",
    "\"\"\"\n",
    "\n",
    "with open(custom, 'w') as OUT:\n",
    "    for row in settings:\n",
    "        OUT.write(row)"
   ]
  },
  {
   "cell_type": "code",
   "execution_count": null,
   "metadata": {
    "collapsed": true
   },
   "outputs": [],
   "source": []
  }
 ],
 "metadata": {
  "kernelspec": {
   "display_name": "Python 2",
   "language": "python",
   "name": "python2"
  },
  "language_info": {
   "codemirror_mode": {
    "name": "ipython",
    "version": 2
   },
   "file_extension": ".py",
   "mimetype": "text/x-python",
   "name": "python",
   "nbconvert_exporter": "python",
   "pygments_lexer": "ipython2",
   "version": "2.7.6"
  }
 },
 "nbformat": 4,
 "nbformat_minor": 0
}
