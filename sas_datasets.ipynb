{
 "cells": [
  {
   "cell_type": "markdown",
   "metadata": {},
   "source": [
    "# SAS Datasets\n",
    "\n",
    "In the lab we commonly use SAS as our main statistics package. There are times where you want to take a SAS dataset and do something with it in python. Typically you would have to use SAS to export the dataset as a CSV and then import it in python. However, there is a python module that allow you to directly access a SAS dataset and dump its contents into a pandas dataframe.\n",
    "\n",
    "Install the sas7bdat library.\n",
    "\n",
    ">`pip install sas7bdat --user`\n",
    "\n",
    "Once installed you can do the following."
   ]
  },
  {
   "cell_type": "code",
   "execution_count": 1,
   "metadata": {
    "collapsed": true
   },
   "outputs": [],
   "source": [
    "import sas7bdat"
   ]
  },
  {
   "cell_type": "code",
   "execution_count": 5,
   "metadata": {
    "collapsed": false
   },
   "outputs": [
    {
     "name": "stderr",
     "output_type": "stream",
     "text": [
      "\u001b[33m[fbgn2coord.sas7bdat] header length 65536 != 8192\u001b[0m\n",
      "\u001b[33m[fbgn2coord.sas7bdat] \u001b[33m[fbgn2coord.sas7bdat] header length 65536 != 8192\u001b[0m\u001b[0m\n",
      "WARNING:/mnt/SHARE/McIntyre_Lab/useful_dmel_data/flybase557/sas_data/fbgn2coord.sas7bdat:\u001b[33m[fbgn2coord.sas7bdat] \u001b[33m[fbgn2coord.sas7bdat] header length 65536 != 8192\u001b[0m\u001b[0m\n"
     ]
    }
   ],
   "source": [
    "with sas7bdat.SAS7BDAT('fbgn2coord.sas7bdat') as FH:\n",
    "    df = FH.to_data_frame()"
   ]
  },
  {
   "cell_type": "code",
   "execution_count": 8,
   "metadata": {
    "collapsed": false
   },
   "outputs": [
    {
     "data": {
      "text/html": [
       "<div style=\"max-height:1000px;max-width:1500px;overflow:auto;\">\n",
       "<table border=\"1\" class=\"dataframe\">\n",
       "  <thead>\n",
       "    <tr style=\"text-align: right;\">\n",
       "      <th></th>\n",
       "      <th>chrom</th>\n",
       "      <th>end</th>\n",
       "      <th>primary_fbgn</th>\n",
       "      <th>start</th>\n",
       "      <th>strand</th>\n",
       "    </tr>\n",
       "  </thead>\n",
       "  <tbody>\n",
       "    <tr>\n",
       "      <th>0</th>\n",
       "      <td>3R</td>\n",
       "      <td>2648518</td>\n",
       "      <td>FBgn0000003</td>\n",
       "      <td>2648220</td>\n",
       "      <td>+</td>\n",
       "    </tr>\n",
       "    <tr>\n",
       "      <th>1</th>\n",
       "      <td>2R</td>\n",
       "      <td>18060339</td>\n",
       "      <td>FBgn0000008</td>\n",
       "      <td>18024473</td>\n",
       "      <td>+</td>\n",
       "    </tr>\n",
       "    <tr>\n",
       "      <th>2</th>\n",
       "      <td>3R</td>\n",
       "      <td>12655771</td>\n",
       "      <td>FBgn0000014</td>\n",
       "      <td>12632936</td>\n",
       "      <td>-</td>\n",
       "    </tr>\n",
       "    <tr>\n",
       "      <th>3</th>\n",
       "      <td>3R</td>\n",
       "      <td>12797958</td>\n",
       "      <td>FBgn0000015</td>\n",
       "      <td>12752932</td>\n",
       "      <td>-</td>\n",
       "    </tr>\n",
       "    <tr>\n",
       "      <th>4</th>\n",
       "      <td>3L</td>\n",
       "      <td>16640982</td>\n",
       "      <td>FBgn0000017</td>\n",
       "      <td>16608966</td>\n",
       "      <td>-</td>\n",
       "    </tr>\n",
       "  </tbody>\n",
       "</table>\n",
       "</div>"
      ],
      "text/plain": [
       "  chrom       end primary_fbgn     start strand\n",
       "0    3R   2648518  FBgn0000003   2648220      +\n",
       "1    2R  18060339  FBgn0000008  18024473      +\n",
       "2    3R  12655771  FBgn0000014  12632936      -\n",
       "3    3R  12797958  FBgn0000015  12752932      -\n",
       "4    3L  16640982  FBgn0000017  16608966      -"
      ]
     },
     "execution_count": 8,
     "metadata": {},
     "output_type": "execute_result"
    }
   ],
   "source": [
    "df.head()"
   ]
  },
  {
   "cell_type": "markdown",
   "metadata": {},
   "source": [
    "This package also comes with a nice command line tool that allows you to get the list of columns from a file."
   ]
  },
  {
   "cell_type": "code",
   "execution_count": 9,
   "metadata": {
    "collapsed": false
   },
   "outputs": [
    {
     "name": "stdout",
     "output_type": "stream",
     "text": [
      "\n"
     ]
    },
    {
     "name": "stderr",
     "output_type": "stream",
     "text": [
      "\u001b[33m[fbgn2coord.sas7bdat] header length 65536 != 8192\u001b[0m\n",
      "\u001b[32m[fbgn2coord.sas7bdat] Header:\n",
      "\tcol_count_p1: 5\n",
      "\tcol_count_p2: 0\n",
      "\tcolumn_count: 5\n",
      "\tcompression: None\n",
      "\tcreator: None\n",
      "\tcreator_proc: SORT\n",
      "\tdate_created: 2014-12-04 18:04:03.851510\n",
      "\tdate_modified: 2014-12-04 18:04:03.851510\n",
      "\tendianess: little\n",
      "\tfile_type: DATA\n",
      "\tfilename: fbgn2coord.sas7bdat\n",
      "\theader_length: 65536\n",
      "\tlcp: 4\n",
      "\tlcs: 0\n",
      "\tmix_page_row_count: 1123\n",
      "\tname: FBGN2COORD\n",
      "\tos_name: x86_64\n",
      "\tos_type: 3.13.0-40-generi\n",
      "\tpage_count: 15\n",
      "\tpage_length: 65536\n",
      "\tplatform: unix\n",
      "\trow_count: 17294\n",
      "\trow_length: 56\n",
      "\tsas_release: 9.0401M0\n",
      "\tserver_type: Linux\n",
      "\tu64: True\n",
      "\n",
      "Contents of dataset \"FBGN2COORD\":\n",
      "Num Name         Type   Length Format Label\n",
      "--- ------------ ------ ------ ------ -----\n",
      "  1 primary_fbgn string     11 $           \n",
      "  2 chrom        string     25 $           \n",
      "  3 start        number      8 BEST        \n",
      "  4 end          number      8 BEST        \n",
      "  5 strand       string      1 $           \n",
      "\u001b[0m\n"
     ]
    }
   ],
   "source": [
    "%%bash\n",
    "sas7bdat_to_csv --header fbgn2coord.sas7bdat"
   ]
  },
  {
   "cell_type": "code",
   "execution_count": null,
   "metadata": {
    "collapsed": true
   },
   "outputs": [],
   "source": []
  }
 ],
 "metadata": {
  "kernelspec": {
   "display_name": "Python 2",
   "language": "python",
   "name": "python2"
  },
  "language_info": {
   "codemirror_mode": {
    "name": "ipython",
    "version": 2
   },
   "file_extension": ".py",
   "mimetype": "text/x-python",
   "name": "python",
   "nbconvert_exporter": "python",
   "pygments_lexer": "ipython2",
   "version": "2.7.6"
  }
 },
 "nbformat": 4,
 "nbformat_minor": 0
}
